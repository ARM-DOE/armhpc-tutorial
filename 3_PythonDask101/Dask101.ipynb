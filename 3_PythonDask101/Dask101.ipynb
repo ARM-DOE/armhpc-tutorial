{
 "cells": [
  {
   "cell_type": "markdown",
   "metadata": {},
   "source": [
    "# A simple example of parallel computing with Dask on ARM data"
   ]
  },
  {
   "cell_type": "code",
   "execution_count": null,
   "metadata": {},
   "outputs": [],
   "source": [
    "#imports\n",
    "import os\n",
    "import numpy as np\n",
    "from matplotlib import pyplot as plt\n",
    "import dask.array as da\n",
    "import dask.bag as db\n",
    "from dask.diagnostics import Profiler, ResourceProfiler, CacheProfiler\n",
    "\n",
    "from dask_jobqueue import PBSCluster\n",
    "from dask.distributed import Client, progress, metrics, LocalCluster\n",
    "\n",
    "import xarray as xr\n",
    "%matplotlib inline"
   ]
  },
  {
   "cell_type": "code",
   "execution_count": null,
   "metadata": {},
   "outputs": [],
   "source": [
    "in_directory = '/lustre/or-hydra/cades-arm/proj-shared/data_transfer/sgp/sgpmetE13.b1/'"
   ]
  },
  {
   "cell_type": "code",
   "execution_count": null,
   "metadata": {},
   "outputs": [],
   "source": [
    "all_files = os.listdir(in_directory)\n",
    "all_files.sort()"
   ]
  },
  {
   "cell_type": "code",
   "execution_count": null,
   "metadata": {},
   "outputs": [],
   "source": [
    "test_file_name = os.path.join(in_directory, all_files[23])\n",
    "test_dataset = xr.open_dataset(test_file_name)"
   ]
  },
  {
   "cell_type": "code",
   "execution_count": null,
   "metadata": {},
   "outputs": [],
   "source": [
    "my_figure = plt.figure(figsize=[10,5])\n",
    "test_dataset.temp_mean.plot()"
   ]
  },
  {
   "cell_type": "code",
   "execution_count": null,
   "metadata": {},
   "outputs": [],
   "source": [
    "my_mean = float(test_dataset.temp_mean.mean())\n",
    "my_max = float(test_dataset.temp_mean.max())\n",
    "my_min = float(test_dataset.temp_mean.min())"
   ]
  },
  {
   "cell_type": "code",
   "execution_count": null,
   "metadata": {},
   "outputs": [],
   "source": [
    "print(\"Mean: {}, Max: {}, Min: {}\".format(my_mean, my_max, my_min ))"
   ]
  },
  {
   "cell_type": "code",
   "execution_count": null,
   "metadata": {},
   "outputs": [],
   "source": [
    "test_dataset.close()"
   ]
  },
  {
   "cell_type": "code",
   "execution_count": null,
   "metadata": {},
   "outputs": [],
   "source": [
    "def analyze_this_days_temps(filename):\n",
    "    this_dataset = xr.open_dataset(filename)\n",
    "    my_mean = float(test_dataset.temp_mean.mean())\n",
    "    my_max = float(test_dataset.temp_mean.max())\n",
    "    my_min = float(test_dataset.temp_mean.min())\n",
    "    this_dataset.close()\n",
    "    return my_mean, my_max, my_min"
   ]
  },
  {
   "cell_type": "code",
   "execution_count": null,
   "metadata": {},
   "outputs": [],
   "source": [
    "fqn_files = [os.path.join(in_directory,thisfile) for thisfile in all_files]"
   ]
  },
  {
   "cell_type": "code",
   "execution_count": null,
   "metadata": {},
   "outputs": [],
   "source": [
    "analyze_this_days_temps(fqn_files[235])"
   ]
  },
  {
   "cell_type": "code",
   "execution_count": null,
   "metadata": {},
   "outputs": [],
   "source": [
    "client = Client('arm-jupyter.ornl.gov:5555')"
   ]
  },
  {
   "cell_type": "code",
   "execution_count": null,
   "metadata": {},
   "outputs": [],
   "source": [
    "client"
   ]
  },
  {
   "cell_type": "code",
   "execution_count": 19,
   "metadata": {},
   "outputs": [],
   "source": [
    "future = client.map(analyze_this_days_temps, fqn_files)"
   ]
  },
  {
   "cell_type": "code",
   "execution_count": 20,
   "metadata": {},
   "outputs": [
    {
     "data": {
      "application/vnd.jupyter.widget-view+json": {
       "model_id": "482fd0e181cf457e989040a8e2e855b0",
       "version_major": 2,
       "version_minor": 0
      },
      "text/plain": [
       "VBox()"
      ]
     },
     "metadata": {},
     "output_type": "display_data"
    }
   ],
   "source": [
    "progress(future)"
   ]
  },
  {
   "cell_type": "code",
   "execution_count": null,
   "metadata": {},
   "outputs": [],
   "source": [
    "my_data = client.gather(future)"
   ]
  }
 ],
 "metadata": {
  "kernelspec": {
   "display_name": "Python [conda env:daskenv]",
   "language": "python",
   "name": "conda-env-daskenv-py"
  },
  "language_info": {
   "codemirror_mode": {
    "name": "ipython",
    "version": 3
   },
   "file_extension": ".py",
   "mimetype": "text/x-python",
   "name": "python",
   "nbconvert_exporter": "python",
   "pygments_lexer": "ipython3",
   "version": "3.6.7"
  }
 },
 "nbformat": 4,
 "nbformat_minor": 2
}
